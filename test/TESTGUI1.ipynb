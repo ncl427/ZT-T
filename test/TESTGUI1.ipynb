{
 "cells": [
  {
   "cell_type": "code",
   "execution_count": 1,
   "id": "ea730462-ffe3-4186-b70e-5f1dd29f0c09",
   "metadata": {},
   "outputs": [
    {
     "name": "stdout",
     "output_type": "stream",
     "text": [
      "Cycle Layout {0: True, 1: True, 2: False, 3: False, 4: False, '-IN-': '', '-IN2-': '', 5: False, 6: False, 7: False, 8: False, 9: False, 10: False, 11: False, 12: False}\n",
      "Cycle Layout {0: True, 1: True, 2: False, 3: False, 4: False, '-IN-': '', '-IN2-': '', 5: False, 6: False, 7: False, 8: False, 9: False, 10: False, 11: False, 12: False}\n",
      "Cycle Layout {0: True, 1: True, 2: False, 3: False, 4: False, '-IN-': '', '-IN2-': '', 5: False, 6: False, 7: False, 8: False, 9: False, 10: False, 11: False, 12: False}\n",
      "Cycle Layout {0: True, 1: True, 2: False, 3: False, 4: False, '-IN-': '', '-IN2-': '', 5: False, 6: False, 7: False, 8: False, 9: False, 10: False, 11: False, 12: False}\n",
      "Cycle Layout {0: True, 1: True, 2: False, 3: False, 4: False, '-IN-': '', '-IN2-': '', 5: False, 6: False, 7: False, 8: False, 9: False, 10: False, 11: False, 12: False}\n",
      "Cycle Layout {0: True, 1: True, 2: False, 3: False, 4: False, '-IN-': '', '-IN2-': '', 5: False, 6: False, 7: False, 8: False, 9: False, 10: False, 11: False, 12: False}\n",
      "Cycle Layout {0: True, 1: True, 2: False, 3: False, 4: False, '-IN-': '', '-IN2-': '', 5: False, 6: False, 7: False, 8: False, 9: False, 10: False, 11: False, 12: False}\n",
      "Cycle Layout {0: True, 1: True, 2: False, 3: False, 4: False, '-IN-': '', '-IN2-': '', 5: False, 6: False, 7: False, 8: False, 9: False, 10: False, 11: False, 12: False}\n",
      "Cycle Layout {0: True, 1: True, 2: False, 3: False, 4: False, '-IN-': '', '-IN2-': '', 5: False, 6: False, 7: False, 8: False, 9: False, 10: False, 11: False, 12: False}\n",
      "Cycle Layout {0: True, 1: True, 2: False, 3: False, 4: False, '-IN-': '', '-IN2-': '', 5: False, 6: False, 7: False, 8: False, 9: False, 10: False, 11: False, 12: False}\n",
      "1 {0: True, 1: True, 2: False, 3: False, 4: False, '-IN-': '', '-IN2-': '', 5: False, 6: False, 7: False, 8: False, 9: False, 10: False, 11: False, 12: False}\n",
      "1 {0: True, 1: True, 2: False, 3: False, 4: False, '-IN-': '', '-IN2-': '', 5: False, 6: False, 7: False, 8: False, 9: False, 10: False, 11: False, 12: False}\n",
      "1 {0: True, 1: True, 2: False, 3: False, 4: False, '-IN-': '', '-IN2-': '', 5: False, 6: False, 7: False, 8: False, 9: False, 10: False, 11: False, 12: False}\n",
      "2 {0: True, 1: True, 2: False, 3: False, 4: False, '-IN-': '', '-IN2-': '', 5: False, 6: False, 7: False, 8: False, 9: False, 10: False, 11: False, 12: False}\n",
      "3 {0: True, 1: True, 2: False, 3: False, 4: False, '-IN-': '', '-IN2-': '', 5: False, 6: False, 7: False, 8: False, 9: False, 10: False, 11: False, 12: False}\n",
      "Exit {0: True, 1: True, 2: False, 3: False, 4: False, '-IN-': '', '-IN2-': '', 5: False, 6: False, 7: False, 8: False, 9: False, 10: False, 11: False, 12: False}\n"
     ]
    }
   ],
   "source": [
    "import PySimpleGUI as sg\n",
    "\n",
    "# ----------- Create the 3 layouts this Window will display -----------\n",
    "layout1 = [[sg.Text('This is layout 1 - It is all Checkboxes')],\n",
    "           *[[sg.CB(f'Checkbox {i}')] for i in range(5)]]\n",
    "\n",
    "layout2 = [[sg.Text('This is layout 2')],\n",
    "           [sg.Input(key='-IN-')],\n",
    "           [sg.Input(key='-IN2-')]]\n",
    "\n",
    "layout3 = [[sg.Text('This is layout 3 - It is all Radio Buttons')],\n",
    "           *[[sg.R(f'Radio {i}', 1)] for i in range(8)]]\n",
    "\n",
    "# ----------- Create actual layout using Columns and a row of Buttons\n",
    "layout = [[sg.Column(layout1, key='-COL1-'), sg.Column(layout2, visible=False, key='-COL2-'), sg.Column(layout3, visible=False, key='-COL3-')],\n",
    "          [sg.Button('Cycle Layout'), sg.Button('1'), sg.Button('2'), sg.Button('3'), sg.Button('Exit')]]\n",
    "\n",
    "window = sg.Window('Swapping the contents of a window', layout)\n",
    "\n",
    "layout = 1  # The currently visible layout\n",
    "while True:\n",
    "    event, values = window.read()\n",
    "    print(event, values)\n",
    "    if event in (None, 'Exit'):\n",
    "        break\n",
    "    if event == 'Cycle Layout':\n",
    "        window[f'-COL{layout}-'].update(visible=False)\n",
    "        layout = layout + 1 if layout < 3 else 1\n",
    "        window[f'-COL{layout}-'].update(visible=True)\n",
    "    elif event in '123':\n",
    "        window[f'-COL{layout}-'].update(visible=False)\n",
    "        layout = int(event)\n",
    "        window[f'-COL{layout}-'].update(visible=True)\n",
    "window.close()"
   ]
  },
  {
   "cell_type": "code",
   "execution_count": null,
   "id": "aa71fcf4-452e-4b4b-a7c0-3ec656011aa7",
   "metadata": {},
   "outputs": [],
   "source": []
  }
 ],
 "metadata": {
  "kernelspec": {
   "display_name": "Python 3 (ipykernel)",
   "language": "python",
   "name": "python3"
  },
  "language_info": {
   "codemirror_mode": {
    "name": "ipython",
    "version": 3
   },
   "file_extension": ".py",
   "mimetype": "text/x-python",
   "name": "python",
   "nbconvert_exporter": "python",
   "pygments_lexer": "ipython3",
   "version": "3.9.7"
  }
 },
 "nbformat": 4,
 "nbformat_minor": 5
}
