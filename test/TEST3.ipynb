{
 "cells": [
  {
   "cell_type": "code",
   "execution_count": 6,
   "id": "4e79bbed-df77-48e2-8bf2-8ab29fb634d6",
   "metadata": {},
   "outputs": [],
   "source": [
    "import PySimpleGUI as sg\n",
    "\n",
    "sg.theme('Dark Red')\n",
    "\n",
    "BAR_MAX = 1000\n",
    "\n",
    "# layout the Window\n",
    "layout = [[sg.Text('A custom progress meter')],\n",
    "          [sg.ProgressBar(BAR_MAX, orientation='h', size=(20,20), key='-PROG-')],\n",
    "          [sg.Cancel()]]\n",
    "\n",
    "# create the Window\n",
    "window = sg.Window('Custom Progress Meter', layout)\n",
    "# loop that would normally do something useful\n",
    "for i in range(1000):\n",
    "    # check to see if the cancel button was clicked and exit loop if clicked\n",
    "    event, values = window.read(timeout=10)\n",
    "    if event == 'Cancel' or event == sg.WIN_CLOSED:\n",
    "        break\n",
    "        # update bar with loop value +1 so that bar eventually reaches the maximum\n",
    "    window['-PROG-'].update(i+1)\n",
    "# done with loop... need to destroy the window as it's still open\n",
    "window.close()"
   ]
  },
  {
   "cell_type": "code",
   "execution_count": null,
   "id": "d8a09d99-dfe3-4d1f-ac60-0504c6415c41",
   "metadata": {},
   "outputs": [],
   "source": []
  },
  {
   "cell_type": "code",
   "execution_count": null,
   "id": "e1c51610-21fd-44c9-91b9-6b0524da684e",
   "metadata": {},
   "outputs": [],
   "source": []
  }
 ],
 "metadata": {
  "kernelspec": {
   "display_name": "Python 3 (ipykernel)",
   "language": "python",
   "name": "python3"
  },
  "language_info": {
   "codemirror_mode": {
    "name": "ipython",
    "version": 3
   },
   "file_extension": ".py",
   "mimetype": "text/x-python",
   "name": "python",
   "nbconvert_exporter": "python",
   "pygments_lexer": "ipython3",
   "version": "3.9.7"
  }
 },
 "nbformat": 4,
 "nbformat_minor": 5
}
