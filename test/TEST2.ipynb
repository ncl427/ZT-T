{
 "cells": [
  {
   "cell_type": "code",
   "execution_count": 2,
   "id": "b125cfa2-3e0e-42d5-b7b2-7724e7c6c35f",
   "metadata": {},
   "outputs": [],
   "source": [
    "import PySimpleGUI as sg\n",
    "\n",
    "sg.theme('DarkBrown1')\n",
    "\n",
    "layout = [  [sg.Text('Stopwatch', size=(20, 2), justification='center')],\n",
    "            [sg.Text(size=(10, 2), font=('Helvetica', 20), justification='center', key='-OUTPUT-')],\n",
    "            [sg.T(' ' * 5), sg.Button('Start/Stop', focus=True), sg.Quit()]]\n",
    "\n",
    "window = sg.Window('Stopwatch Timer', layout)\n",
    "\n",
    "timer_running, counter = True, 0\n",
    "\n",
    "while True:                                 # Event Loop\n",
    "    event, values = window.read(timeout=10) # Please try and use as high of a timeout value as you can\n",
    "    if event in (sg.WIN_CLOSED, 'Quit'):             # if user closed the window using X or clicked Quit button\n",
    "        break\n",
    "    elif event == 'Start/Stop':\n",
    "        timer_running = not timer_running\n",
    "    if timer_running:\n",
    "        window['-OUTPUT-'].update('{:02d}:{:02d}.{:02d}'.format((counter // 100) // 60, (counter // 100) % 60, counter % 100))\n",
    "        counter += 1\n",
    "window.close()"
   ]
  },
  {
   "cell_type": "code",
   "execution_count": null,
   "id": "e55aea49-18d0-4a8a-b334-8f3c90bcc17b",
   "metadata": {},
   "outputs": [],
   "source": []
  }
 ],
 "metadata": {
  "kernelspec": {
   "display_name": "Python 3 (ipykernel)",
   "language": "python",
   "name": "python3"
  },
  "language_info": {
   "codemirror_mode": {
    "name": "ipython",
    "version": 3
   },
   "file_extension": ".py",
   "mimetype": "text/x-python",
   "name": "python",
   "nbconvert_exporter": "python",
   "pygments_lexer": "ipython3",
   "version": "3.9.7"
  }
 },
 "nbformat": 4,
 "nbformat_minor": 5
}
