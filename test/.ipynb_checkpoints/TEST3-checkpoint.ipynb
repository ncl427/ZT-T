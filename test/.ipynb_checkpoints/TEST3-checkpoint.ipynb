{
 "cells": [
  {
   "cell_type": "code",
   "execution_count": 2,
   "id": "4e79bbed-df77-48e2-8bf2-8ab29fb634d6",
   "metadata": {},
   "outputs": [],
   "source": [
    "import PySimpleGUI as sg\n",
    "\n",
    "sg.theme('Dark Blue 8')\n",
    "\n",
    "for i in range(1000):   # this is your \"work loop\" that you want to monitor\n",
    "    sg.one_line_progress_meter('One Line Meter Example', i + 1, 1000, 'This is my custom message', i*300, orientation='h')\n",
    "    # after 500 iterations, cancel the meter\n",
    "    if i == 500:\n",
    "        sg.one_line_progress_meter_cancel()\n",
    "        sg.popup('Cancelled!')\n",
    "        break"
   ]
  },
  {
   "cell_type": "code",
   "execution_count": null,
   "id": "d8a09d99-dfe3-4d1f-ac60-0504c6415c41",
   "metadata": {},
   "outputs": [],
   "source": []
  }
 ],
 "metadata": {
  "kernelspec": {
   "display_name": "Python 3 (ipykernel)",
   "language": "python",
   "name": "python3"
  },
  "language_info": {
   "codemirror_mode": {
    "name": "ipython",
    "version": 3
   },
   "file_extension": ".py",
   "mimetype": "text/x-python",
   "name": "python",
   "nbconvert_exporter": "python",
   "pygments_lexer": "ipython3",
   "version": "3.9.7"
  }
 },
 "nbformat": 4,
 "nbformat_minor": 5
}
