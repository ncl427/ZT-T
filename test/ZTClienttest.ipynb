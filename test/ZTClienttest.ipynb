{
 "cells": [
  {
   "cell_type": "code",
   "execution_count": 1,
   "id": "5207bbde-9212-4f77-a8fe-d36e5bb20d47",
   "metadata": {},
   "outputs": [],
   "source": [
    "#!pip install web3\n",
    "#!pip install eth-tester\n"
   ]
  },
  {
   "cell_type": "code",
   "execution_count": null,
   "id": "6e7556a2-d22c-4bcc-a593-029ba3c03ca7",
   "metadata": {},
   "outputs": [],
   "source": [
    "from web3 import Web3, HTTPProvider, EthereumTesterProvider\n",
    "from web3.middleware import geth_poa_middleware\n",
    "from os.path import exists\n",
    "from eth_account.messages import encode_defunct\n",
    "from config.definitions import ROOT_DIR\n",
    "from threading import Thread\n",
    "from eth_abi import encode_abi, decode_abi\n",
    "\n",
    "\n",
    "import json\n",
    "import requests\n",
    "import os\n",
    "import asyncio\n",
    "import time\n",
    "import subprocess\n",
    "import re \n",
    "\n",
    "\n",
    "\n",
    "\n",
    "nftOTT = \"0xAf47c9D246fEF48C6AAc885353A86Cf06B8Ec4E5\" #Address of the NFT contract\n",
    "permissionedAddress = \"0x56da4f2C76bbb7B56da0b287fC9d525872638145\"\n",
    "operator =\"0xc9e93b4E813c6818975ea166B0CfEc001454aD0B\" #Address of IBN\n",
    "employeeRepo= \"0x862052D18e7B8f5261E2601b94bE2197f58A86Ae\"\n",
    "policyRules=\"0xB6082Ff8C8765eE6AB4650f3AAAcBCF81876fEa7\"\n",
    "\n",
    "myOTT = None\n",
    "\n",
    "abiFolder = os.path.join(ROOT_DIR, 'ABI')\n",
    "with open(abiFolder+\"/\"+\"ottNFT.json\") as file:\n",
    "    abiNFT = json.load(file)\n",
    "    \n",
    "with open(abiFolder+\"/\"+\"accountRules.json\") as file:\n",
    "    abi = json.load(file)\n",
    "with open(abiFolder+\"/\"+\"repoList.json\") as file:\n",
    "    abiEmpRep = json.load(file)\n",
    "with open(abiFolder+\"/\"+\"policyRules.json\") as file:\n",
    "    abiPolicy = json.load(file)\n",
    "    \n",
    "rpcURL = \"http://localhost:105/\"\n",
    "obj = {\n",
    "    \"username\": \"admin\",\n",
    "    \"password\": \"admin\"\n",
    "}\n",
    "authURL = \"https://orchestrator.ncl.lab:1280/edge/management/v1/authenticate?method=password\""
   ]
  },
  {
   "cell_type": "code",
   "execution_count": 3,
   "id": "e7b920da-ed5c-47bd-bea4-3b700142e528",
   "metadata": {},
   "outputs": [],
   "source": [
    "def createIdentity():\n",
    "    ##print(\"Input the MFA verification message that you received in your E-mail\")\n",
    "    ##msg = str(input())\n",
    "    #msg = \"verified\"\n",
    "    \n",
    "    #private_key = my_account.privateKey\n",
    "    #message = encode_defunct(text=msg)\n",
    "    #signed_message = w3.eth.account.sign_message(message, private_key=private_key)\n",
    "    #signedMessage = signMessage(secretMessage, private_key) #Sign message to ensure proper identity\n",
    "    jsonobj = {\n",
    "        \"signature\": '0xefe4a65c4f8eabce4ed754ae59481ba0cad190270a916d1d00c00072e1b30796517b46f64d0d4a446a5f2718e31614ace012b8b87b82fd3e501c41583ee2a0ad1c',\n",
    "        \"address\": '0xe542D6B2f22Fa8acA8de6bB1B65EC0a6028E5cA6'\n",
    "    }\n",
    "\n",
    "\n",
    "    print(jsonobj)\n",
    "\n",
    "    createIdentity = requests.post(\n",
    "    rpcURL+\"/createIdentity/\",\n",
    "    verify=False,\n",
    "    json = jsonobj\n",
    "    )\n",
    "    #print(createIdentity.text)"
   ]
  },
  {
   "cell_type": "code",
   "execution_count": 4,
   "id": "c6755a1c-a976-445d-982a-d675e3a31fab",
   "metadata": {},
   "outputs": [],
   "source": [
    "def safePasswordInput( my_encKey, num_retries = 3 ):\n",
    "    for attempt_no in range(num_retries):\n",
    "        try:\n",
    "            passw = str(input())\n",
    "            dec_key = w3.eth.account.decrypt(my_encKey, passw)\n",
    "            return dec_key\n",
    "        except ValueError as error:\n",
    "            if attempt_no < (num_retries - 1):\n",
    "                print(\"Error: Invalid password\")\n",
    "            else:\n",
    "                raise error"
   ]
  },
  {
   "cell_type": "code",
   "execution_count": 5,
   "id": "8e951d17-e20e-4eb3-9bda-cafc754a1bdd",
   "metadata": {},
   "outputs": [],
   "source": [
    "def setApproval(address):\n",
    "    tokensOwned = nftOTT_instance.functions.balanceOf(my_account._address).call() #Get the status of the account\n",
    "    check_sum = w3.toChecksumAddress(my_account._address)\n",
    "    print(\"Tokens Owned\", tokensOwned)\n",
    "    trans = nftOTT_instance.functions.setApprovalForAll(address, True).buildTransaction({\"from\": check_sum,\"gasPrice\": w3.eth.gas_price,\"nonce\": w3.eth.get_transaction_count(check_sum),\"chainId\": 2022}) #build RAW transaction supported by BESU\n",
    "    signed_txn = w3.eth.account.sign_transaction(trans, my_account.privateKey) #Sign transaction using our own private key\n",
    "    txn_hash = w3.eth.send_raw_transaction(signed_txn.rawTransaction) #Send transaction to BESU\n",
    "    tx_receipt = w3.eth.wait_for_transaction_receipt(txn_hash.hex())  #Gets a receipt from the Blockchain\n",
    "    return tx_receipt"
   ]
  },
  {
   "cell_type": "code",
   "execution_count": 6,
   "id": "2fdc8f67-a1b1-42b1-84ba-7c3d9cfdb39a",
   "metadata": {},
   "outputs": [],
   "source": [
    "def getBlockKey(file_exists):\n",
    "    if not file_exists:\n",
    "        print(\"Please provide an entropy phrase for your secured Blockchain Keys:\")\n",
    "        entropy = str(input())\n",
    "        my_account = w3.eth.account.create(entropy)\n",
    "        print(\"Please provide a password for encryptyion of Blockchain Keys:\")\n",
    "        passw = str(input())\n",
    "        my_encAcc= w3.eth.account.encrypt(my_account.privateKey, passw)\n",
    "        #print(my_encAcc)\n",
    "        with open('encyptedKeyIBN.json', 'w') as json_file:\n",
    "            json.dump(my_encAcc, json_file)\n",
    "        return my_account\n",
    "    else:\n",
    "        with open('encyptedKeyIBN.json') as my_key:\n",
    "            my_encKey = json.load(my_key)\n",
    "        print(my_encKey)\n",
    "        #print(type(my_encKey))\n",
    "        print(\"Enter your password for decryption:\")\n",
    "        #passw = str(input())\n",
    "        try:\n",
    "            dec_key =safePasswordInput(my_encKey)  \n",
    "            my_account = w3.eth.account.privateKeyToAccount(dec_key)\n",
    "            return my_account\n",
    "        except ValueError as error:\n",
    "            print(\"Too many wrong passwords!!\", error)\n",
    "            raise error\n"
   ]
  },
  {
   "cell_type": "code",
   "execution_count": 7,
   "id": "a0338d49-b326-44e4-bae4-8c1284a391a4",
   "metadata": {},
   "outputs": [
    {
     "data": {
      "text/plain": [
       "'def createIdentity():\\n #   print(\"Input the MFA verification message that you received in your E-mail\")\\n    msg = str(input())\\n    #msg = \"verified\"\\n    private_key = my_account.privateKey\\n    message = encode_defunct(text=msg)\\n    signed_message = w3.eth.account.sign_message(message, private_key=private_key)\\n\\n    print(signed_message)\\n\\n    createIdentity = requests.post(\\n    rpcURL+\"/enroll/\",\\n    verify=False,\\n    data = signed_message.signature\\n    )\\n    #print(createIdentity.text)\\n'"
      ]
     },
     "execution_count": 7,
     "metadata": {},
     "output_type": "execute_result"
    }
   ],
   "source": [
    "\"\"\"def createIdentity():\n",
    " #   print(\"Input the MFA verification message that you received in your E-mail\")\n",
    "    msg = str(input())\n",
    "    #msg = \"verified\"\n",
    "    private_key = my_account.privateKey\n",
    "    message = encode_defunct(text=msg)\n",
    "    signed_message = w3.eth.account.sign_message(message, private_key=private_key)\n",
    "\n",
    "    print(signed_message)\n",
    "\n",
    "    createIdentity = requests.post(\n",
    "    rpcURL+\"/enroll/\",\n",
    "    verify=False,\n",
    "    data = signed_message.signature\n",
    "    )\n",
    "    #print(createIdentity.text)\n",
    "\"\"\"\n",
    "    "
   ]
  },
  {
   "cell_type": "code",
   "execution_count": 8,
   "id": "baa15201-d5e9-494d-86cb-7a716692a0e2",
   "metadata": {},
   "outputs": [],
   "source": [
    "def callSomething(signedMessage):\n",
    "    print(signedMessage)\n",
    "    jsonobj = {\n",
    "        \"signedM\": signedMessage\n",
    "    }\n",
    "    something = requests.post(\n",
    "    rpcURL+\"/decrypt/\",\n",
    "    verify=False,\n",
    "    json = jsonobj\n",
    "    )\n",
    "    \n",
    "    print(something.text)\n",
    "    "
   ]
  },
  {
   "cell_type": "code",
   "execution_count": 9,
   "id": "ac68bfbf-be3a-400d-8983-8c8ab187c07b",
   "metadata": {},
   "outputs": [],
   "source": [
    "def checkBalance():\n",
    "    check_sum = w3.toChecksumAddress(my_account._address)\n",
    "    balance = w3.eth.get_balance(check_sum)\n",
    "    print(balance)\n",
    "\n",
    "    "
   ]
  },
  {
   "cell_type": "code",
   "execution_count": 10,
   "id": "0b449bfa-c2b9-47f8-9724-67ceafc7a1a3",
   "metadata": {},
   "outputs": [],
   "source": [
    "# define function to handle events and print to the console\n",
    "def handle_event(event):\n",
    "    eventS = Web3.toJSON(event)\n",
    "    eventJSON = json.loads(eventS)\n",
    "    print(eventJSON)\n",
    "    tokenId = eventJSON[\"args\"][\"tokenId\"]\n",
    "    return tokenId\n",
    "    # and whatever\n",
    "\n",
    "\n",
    "# asynchronous defined function to loop\n",
    "# this loop sets up an event filter and is looking for new entires for the \"PairCreated\" event\n",
    "# this loop runs on a poll interval\n",
    "#async def log_loop(event_filter, poll_interval):\n",
    "def log_loop(event_filter, poll_interval):\n",
    "    while True:\n",
    "        for Transfer in event_filter.get_new_entries():\n",
    "            #print(\"TEST\")\n",
    "            tokenId = handle_event(Transfer)\n",
    "            global myOTT\n",
    "            myOTT=tokenId\n",
    "            print(tokenId)\n",
    "        time.sleep(poll_interval)\n",
    "        #await asyncio.sleep(poll_interval)"
   ]
  },
  {
   "cell_type": "code",
   "execution_count": 11,
   "id": "e2b231a8-f76e-4cbd-b555-8ddba127d114",
   "metadata": {},
   "outputs": [],
   "source": [
    "def eventFilter():\n",
    "    event_filter = nftOTT_instance.events.Transfer.createFilter(fromBlock='latest', argument_filters={'to': my_account.address})\n",
    "    print(event_filter)\n",
    "    worker = Thread(target=log_loop, args=(event_filter, 2), daemon=True)\n",
    "    worker.start()\n",
    "    #block_filter = web3.eth.filter('latest')\n",
    "    # tx_filter = web3.eth.filter('pending')\n",
    "    #loop = asyncio.get_event_loop()\n",
    "    #print(\"LOOP\", loop)\n",
    "    #try:\n",
    "       # loop.run_until_complete(\n",
    "          #  asyncio.gather(\n",
    "            #    log_loop(event_filter, 2)))\n",
    "                # log_loop(block_filter, 2),\n",
    "                # log_loop(tx_filter, 2)))\n",
    "    #finally:\n",
    "        # close loop to free up system resources\n",
    "      #  loop.close()\n"
   ]
  },
  {
   "cell_type": "code",
   "execution_count": 12,
   "id": "bb1da761-ebc9-423a-896e-0868bfeb1425",
   "metadata": {},
   "outputs": [],
   "source": [
    "def enroll(tokenId):\n",
    "    tokenURI = nftOTT_instance.functions.tokenURI(tokenId).call() #Get the OTT information\n",
    "    with open('ott.jwt', 'w') as f:\n",
    "        f.write(tokenURI)\n",
    "    output = subprocess.run([\"ziti.exe\", \"edge\", \"enroll\", \"-j\", \"ott.jwt\", \"-o\", \"myId.json\"], capture_output=True, text=True, check=True)\n",
    "    print(output)\n",
    "    \n",
    "\n",
    "\n",
    "\n",
    "    "
   ]
  },
  {
   "cell_type": "code",
   "execution_count": 13,
   "id": "079512db-58a5-4219-8db6-fcb4fa6ce66a",
   "metadata": {},
   "outputs": [],
   "source": [
    "def signMessage(message, privKey):\n",
    "    singlequote =\"'\"\n",
    "    doublequote = '\"'\n",
    "    cmd = 'node -e \\\"require(\\'./signMe.js\\').signMessage(\\'{}\\',\\'{}\\')\\\"' #If fail, check quotes\n",
    "    pattern = r'\\\\n(.*)\\\\n'\n",
    "    \n",
    " \n",
    "    privKey = w3.toHex(privKey)\n",
    "    output = subprocess.check_output(cmd.format(message, privKey), shell=True)\n",
    "    \n",
    "    \n",
    "    #signed_message = w3.eth.sign(privKey,text=message)\n",
    "    print(cmd.format(message,privKey))\n",
    "    substring = re.search(pattern, str(output)).group(1)\n",
    "    print(substring)\n",
    "    return substring\n",
    "    "
   ]
  },
  {
   "cell_type": "code",
   "execution_count": 14,
   "id": "72af86b2-653d-47ce-a4df-052e302b2fdc",
   "metadata": {},
   "outputs": [],
   "source": [
    "def mintOTTNFT(address):\n",
    "    check_sum = w3.toChecksumAddress(address)\n",
    "    ott = \"PENICHI\"  \n",
    "    #mintOTTNFT(ott, address)\n",
    "    totalSupply = nftOTT_instance.functions.totalSupply().call() #Get the total amount of tokens created\n",
    "    check_sum = w3.toChecksumAddress(my_account._address)\n",
    "    print(\"Totalsupply\", totalSupply, address, ott)\n",
    "    tokenId = totalSupply+1\n",
    "    print(tokenId)\n",
    "    trans = nftOTT_instance.functions.mint(address,tokenId,ott).buildTransaction({\"from\": check_sum,\"gasPrice\": w3.eth.gas_price,\"nonce\": w3.eth.get_transaction_count(check_sum),\"chainId\": 2022}) #build RAW transaction supported by BESU\n",
    "    signed_txn = w3.eth.account.sign_transaction(trans, my_account.privateKey) #Sign transaction using our own private key\n",
    "    print(signed_txn)\n",
    "    txn_hash = w3.eth.send_raw_transaction(signed_txn.rawTransaction) #Send transaction to BESU"
   ]
  },
  {
   "cell_type": "code",
   "execution_count": 15,
   "id": "2bd17742-86ce-4876-82bb-43a008882ac2",
   "metadata": {},
   "outputs": [],
   "source": [
    "def getIdentityInfoN(identity):\n",
    "    authResponse = requests.post(authURL, json=obj, verify=False,)\n",
    "    jsonResponse = json.loads(authResponse.text)\n",
    "    #print(authResponse.text)\n",
    "\n",
    "    identityInfo = requests.get(\n",
    "    f\"https://172.18.102.169:1280/edge/management/v1/identities?filter=(name contains \\\"{identity}\\\")\",\n",
    "    verify=False,\n",
    "    headers={\"zt-session\": jsonResponse['data']['token']}\n",
    "        )\n",
    "    identityResponse = json.loads(identityInfo.text)\n",
    "    ##auth = identityResponse[\"data\"][0][\"authenticators\"]\n",
    "\n",
    "    print(identityResponse[\"data\"])\n",
    "    ##print(len(auth))\n"
   ]
  },
  {
   "cell_type": "code",
   "execution_count": 16,
   "id": "0e28e6d7-ad78-4852-a81d-075f6852c6fb",
   "metadata": {},
   "outputs": [
    {
     "ename": "KeyboardInterrupt",
     "evalue": "",
     "output_type": "error",
     "traceback": [
      "\u001b[1;31m---------------------------------------------------------------------------\u001b[0m",
      "\u001b[1;31mtimeout\u001b[0m                                   Traceback (most recent call last)",
      "\u001b[1;32m~\\anaconda3\\lib\\site-packages\\urllib3\\util\\connection.py\u001b[0m in \u001b[0;36mcreate_connection\u001b[1;34m(address, timeout, source_address, socket_options)\u001b[0m\n\u001b[0;32m     85\u001b[0m                 \u001b[0msock\u001b[0m\u001b[1;33m.\u001b[0m\u001b[0mbind\u001b[0m\u001b[1;33m(\u001b[0m\u001b[0msource_address\u001b[0m\u001b[1;33m)\u001b[0m\u001b[1;33m\u001b[0m\u001b[1;33m\u001b[0m\u001b[0m\n\u001b[1;32m---> 86\u001b[1;33m             \u001b[0msock\u001b[0m\u001b[1;33m.\u001b[0m\u001b[0mconnect\u001b[0m\u001b[1;33m(\u001b[0m\u001b[0msa\u001b[0m\u001b[1;33m)\u001b[0m\u001b[1;33m\u001b[0m\u001b[1;33m\u001b[0m\u001b[0m\n\u001b[0m\u001b[0;32m     87\u001b[0m             \u001b[1;32mreturn\u001b[0m \u001b[0msock\u001b[0m\u001b[1;33m\u001b[0m\u001b[1;33m\u001b[0m\u001b[0m\n",
      "\u001b[1;31mtimeout\u001b[0m: timed out",
      "\nDuring handling of the above exception, another exception occurred:\n",
      "\u001b[1;31mKeyboardInterrupt\u001b[0m                         Traceback (most recent call last)",
      "\u001b[1;32mC:\\Users\\COMPUT~1\\AppData\\Local\\Temp/ipykernel_29944/3246303683.py\u001b[0m in \u001b[0;36m<module>\u001b[1;34m\u001b[0m\n\u001b[0;32m      1\u001b[0m \u001b[1;32mif\u001b[0m \u001b[0m__name__\u001b[0m \u001b[1;33m==\u001b[0m \u001b[1;34m'__main__'\u001b[0m\u001b[1;33m:\u001b[0m\u001b[1;33m\u001b[0m\u001b[1;33m\u001b[0m\u001b[0m\n\u001b[0;32m      2\u001b[0m     \u001b[0mw3\u001b[0m \u001b[1;33m=\u001b[0m \u001b[0mWeb3\u001b[0m\u001b[1;33m(\u001b[0m\u001b[0mHTTPProvider\u001b[0m\u001b[1;33m(\u001b[0m\u001b[1;34m'http://172.18.102.169:9545'\u001b[0m\u001b[1;33m)\u001b[0m\u001b[1;33m)\u001b[0m \u001b[1;31m#If access to our Local lockchain\u001b[0m\u001b[1;33m\u001b[0m\u001b[1;33m\u001b[0m\u001b[0m\n\u001b[1;32m----> 3\u001b[1;33m     \u001b[0mw3\u001b[0m\u001b[1;33m.\u001b[0m\u001b[0misConnected\u001b[0m\u001b[1;33m(\u001b[0m\u001b[1;33m)\u001b[0m\u001b[1;33m\u001b[0m\u001b[1;33m\u001b[0m\u001b[0m\n\u001b[0m\u001b[0;32m      4\u001b[0m     \u001b[1;31m#w3 = Web3(EthereumTesterProvider()) #If no internet connectivity\u001b[0m\u001b[1;33m\u001b[0m\u001b[1;33m\u001b[0m\u001b[0m\n\u001b[0;32m      5\u001b[0m     \u001b[0mw3\u001b[0m\u001b[1;33m.\u001b[0m\u001b[0mmiddleware_onion\u001b[0m\u001b[1;33m.\u001b[0m\u001b[0minject\u001b[0m\u001b[1;33m(\u001b[0m\u001b[0mgeth_poa_middleware\u001b[0m\u001b[1;33m,\u001b[0m \u001b[0mlayer\u001b[0m\u001b[1;33m=\u001b[0m\u001b[1;36m0\u001b[0m\u001b[1;33m)\u001b[0m \u001b[1;31m#For compatibility with POA consensus chains\u001b[0m\u001b[1;33m\u001b[0m\u001b[1;33m\u001b[0m\u001b[0m\n",
      "\u001b[1;32m~\\anaconda3\\lib\\site-packages\\web3\\main.py\u001b[0m in \u001b[0;36misConnected\u001b[1;34m(self)\u001b[0m\n\u001b[0;32m    341\u001b[0m \u001b[1;33m\u001b[0m\u001b[0m\n\u001b[0;32m    342\u001b[0m     \u001b[1;32mdef\u001b[0m \u001b[0misConnected\u001b[0m\u001b[1;33m(\u001b[0m\u001b[0mself\u001b[0m\u001b[1;33m)\u001b[0m \u001b[1;33m->\u001b[0m \u001b[0mbool\u001b[0m\u001b[1;33m:\u001b[0m\u001b[1;33m\u001b[0m\u001b[1;33m\u001b[0m\u001b[0m\n\u001b[1;32m--> 343\u001b[1;33m         \u001b[1;32mreturn\u001b[0m \u001b[0mself\u001b[0m\u001b[1;33m.\u001b[0m\u001b[0mprovider\u001b[0m\u001b[1;33m.\u001b[0m\u001b[0misConnected\u001b[0m\u001b[1;33m(\u001b[0m\u001b[1;33m)\u001b[0m\u001b[1;33m\u001b[0m\u001b[1;33m\u001b[0m\u001b[0m\n\u001b[0m\u001b[0;32m    344\u001b[0m \u001b[1;33m\u001b[0m\u001b[0m\n\u001b[0;32m    345\u001b[0m     \u001b[1;32mdef\u001b[0m \u001b[0mis_encodable\u001b[0m\u001b[1;33m(\u001b[0m\u001b[0mself\u001b[0m\u001b[1;33m,\u001b[0m \u001b[0m_type\u001b[0m\u001b[1;33m:\u001b[0m \u001b[0mTypeStr\u001b[0m\u001b[1;33m,\u001b[0m \u001b[0mvalue\u001b[0m\u001b[1;33m:\u001b[0m \u001b[0mAny\u001b[0m\u001b[1;33m)\u001b[0m \u001b[1;33m->\u001b[0m \u001b[0mbool\u001b[0m\u001b[1;33m:\u001b[0m\u001b[1;33m\u001b[0m\u001b[1;33m\u001b[0m\u001b[0m\n",
      "\u001b[1;32m~\\anaconda3\\lib\\site-packages\\web3\\providers\\base.py\u001b[0m in \u001b[0;36misConnected\u001b[1;34m(self)\u001b[0m\n\u001b[0;32m    101\u001b[0m     \u001b[1;32mdef\u001b[0m \u001b[0misConnected\u001b[0m\u001b[1;33m(\u001b[0m\u001b[0mself\u001b[0m\u001b[1;33m)\u001b[0m \u001b[1;33m->\u001b[0m \u001b[0mbool\u001b[0m\u001b[1;33m:\u001b[0m\u001b[1;33m\u001b[0m\u001b[1;33m\u001b[0m\u001b[0m\n\u001b[0;32m    102\u001b[0m         \u001b[1;32mtry\u001b[0m\u001b[1;33m:\u001b[0m\u001b[1;33m\u001b[0m\u001b[1;33m\u001b[0m\u001b[0m\n\u001b[1;32m--> 103\u001b[1;33m             \u001b[0mresponse\u001b[0m \u001b[1;33m=\u001b[0m \u001b[0mself\u001b[0m\u001b[1;33m.\u001b[0m\u001b[0mmake_request\u001b[0m\u001b[1;33m(\u001b[0m\u001b[0mRPCEndpoint\u001b[0m\u001b[1;33m(\u001b[0m\u001b[1;34m'web3_clientVersion'\u001b[0m\u001b[1;33m)\u001b[0m\u001b[1;33m,\u001b[0m \u001b[1;33m[\u001b[0m\u001b[1;33m]\u001b[0m\u001b[1;33m)\u001b[0m\u001b[1;33m\u001b[0m\u001b[1;33m\u001b[0m\u001b[0m\n\u001b[0m\u001b[0;32m    104\u001b[0m         \u001b[1;32mexcept\u001b[0m \u001b[0mIOError\u001b[0m\u001b[1;33m:\u001b[0m\u001b[1;33m\u001b[0m\u001b[1;33m\u001b[0m\u001b[0m\n\u001b[0;32m    105\u001b[0m             \u001b[1;32mreturn\u001b[0m \u001b[1;32mFalse\u001b[0m\u001b[1;33m\u001b[0m\u001b[1;33m\u001b[0m\u001b[0m\n",
      "\u001b[1;32m~\\anaconda3\\lib\\site-packages\\web3\\providers\\rpc.py\u001b[0m in \u001b[0;36mmake_request\u001b[1;34m(self, method, params)\u001b[0m\n\u001b[0;32m     86\u001b[0m                           self.endpoint_uri, method)\n\u001b[0;32m     87\u001b[0m         \u001b[0mrequest_data\u001b[0m \u001b[1;33m=\u001b[0m \u001b[0mself\u001b[0m\u001b[1;33m.\u001b[0m\u001b[0mencode_rpc_request\u001b[0m\u001b[1;33m(\u001b[0m\u001b[0mmethod\u001b[0m\u001b[1;33m,\u001b[0m \u001b[0mparams\u001b[0m\u001b[1;33m)\u001b[0m\u001b[1;33m\u001b[0m\u001b[1;33m\u001b[0m\u001b[0m\n\u001b[1;32m---> 88\u001b[1;33m         raw_response = make_post_request(\n\u001b[0m\u001b[0;32m     89\u001b[0m             \u001b[0mself\u001b[0m\u001b[1;33m.\u001b[0m\u001b[0mendpoint_uri\u001b[0m\u001b[1;33m,\u001b[0m\u001b[1;33m\u001b[0m\u001b[1;33m\u001b[0m\u001b[0m\n\u001b[0;32m     90\u001b[0m             \u001b[0mrequest_data\u001b[0m\u001b[1;33m,\u001b[0m\u001b[1;33m\u001b[0m\u001b[1;33m\u001b[0m\u001b[0m\n",
      "\u001b[1;32m~\\anaconda3\\lib\\site-packages\\web3\\_utils\\request.py\u001b[0m in \u001b[0;36mmake_post_request\u001b[1;34m(endpoint_uri, data, *args, **kwargs)\u001b[0m\n\u001b[0;32m    100\u001b[0m     \u001b[0msession\u001b[0m \u001b[1;33m=\u001b[0m \u001b[0m_get_session\u001b[0m\u001b[1;33m(\u001b[0m\u001b[0mendpoint_uri\u001b[0m\u001b[1;33m)\u001b[0m\u001b[1;33m\u001b[0m\u001b[1;33m\u001b[0m\u001b[0m\n\u001b[0;32m    101\u001b[0m     \u001b[1;31m# https://github.com/python/mypy/issues/2582\u001b[0m\u001b[1;33m\u001b[0m\u001b[1;33m\u001b[0m\u001b[0m\n\u001b[1;32m--> 102\u001b[1;33m     \u001b[0mresponse\u001b[0m \u001b[1;33m=\u001b[0m \u001b[0msession\u001b[0m\u001b[1;33m.\u001b[0m\u001b[0mpost\u001b[0m\u001b[1;33m(\u001b[0m\u001b[0mendpoint_uri\u001b[0m\u001b[1;33m,\u001b[0m \u001b[0mdata\u001b[0m\u001b[1;33m=\u001b[0m\u001b[0mdata\u001b[0m\u001b[1;33m,\u001b[0m \u001b[1;33m*\u001b[0m\u001b[0margs\u001b[0m\u001b[1;33m,\u001b[0m \u001b[1;33m**\u001b[0m\u001b[0mkwargs\u001b[0m\u001b[1;33m)\u001b[0m  \u001b[1;31m# type: ignore\u001b[0m\u001b[1;33m\u001b[0m\u001b[1;33m\u001b[0m\u001b[0m\n\u001b[0m\u001b[0;32m    103\u001b[0m     \u001b[0mresponse\u001b[0m\u001b[1;33m.\u001b[0m\u001b[0mraise_for_status\u001b[0m\u001b[1;33m(\u001b[0m\u001b[1;33m)\u001b[0m\u001b[1;33m\u001b[0m\u001b[1;33m\u001b[0m\u001b[0m\n\u001b[0;32m    104\u001b[0m \u001b[1;33m\u001b[0m\u001b[0m\n",
      "\u001b[1;32m~\\anaconda3\\lib\\site-packages\\requests\\sessions.py\u001b[0m in \u001b[0;36mpost\u001b[1;34m(self, url, data, json, **kwargs)\u001b[0m\n\u001b[0;32m    588\u001b[0m         \"\"\"\n\u001b[0;32m    589\u001b[0m \u001b[1;33m\u001b[0m\u001b[0m\n\u001b[1;32m--> 590\u001b[1;33m         \u001b[1;32mreturn\u001b[0m \u001b[0mself\u001b[0m\u001b[1;33m.\u001b[0m\u001b[0mrequest\u001b[0m\u001b[1;33m(\u001b[0m\u001b[1;34m'POST'\u001b[0m\u001b[1;33m,\u001b[0m \u001b[0murl\u001b[0m\u001b[1;33m,\u001b[0m \u001b[0mdata\u001b[0m\u001b[1;33m=\u001b[0m\u001b[0mdata\u001b[0m\u001b[1;33m,\u001b[0m \u001b[0mjson\u001b[0m\u001b[1;33m=\u001b[0m\u001b[0mjson\u001b[0m\u001b[1;33m,\u001b[0m \u001b[1;33m**\u001b[0m\u001b[0mkwargs\u001b[0m\u001b[1;33m)\u001b[0m\u001b[1;33m\u001b[0m\u001b[1;33m\u001b[0m\u001b[0m\n\u001b[0m\u001b[0;32m    591\u001b[0m \u001b[1;33m\u001b[0m\u001b[0m\n\u001b[0;32m    592\u001b[0m     \u001b[1;32mdef\u001b[0m \u001b[0mput\u001b[0m\u001b[1;33m(\u001b[0m\u001b[0mself\u001b[0m\u001b[1;33m,\u001b[0m \u001b[0murl\u001b[0m\u001b[1;33m,\u001b[0m \u001b[0mdata\u001b[0m\u001b[1;33m=\u001b[0m\u001b[1;32mNone\u001b[0m\u001b[1;33m,\u001b[0m \u001b[1;33m**\u001b[0m\u001b[0mkwargs\u001b[0m\u001b[1;33m)\u001b[0m\u001b[1;33m:\u001b[0m\u001b[1;33m\u001b[0m\u001b[1;33m\u001b[0m\u001b[0m\n",
      "\u001b[1;32m~\\anaconda3\\lib\\site-packages\\requests\\sessions.py\u001b[0m in \u001b[0;36mrequest\u001b[1;34m(self, method, url, params, data, headers, cookies, files, auth, timeout, allow_redirects, proxies, hooks, stream, verify, cert, json)\u001b[0m\n\u001b[0;32m    540\u001b[0m         }\n\u001b[0;32m    541\u001b[0m         \u001b[0msend_kwargs\u001b[0m\u001b[1;33m.\u001b[0m\u001b[0mupdate\u001b[0m\u001b[1;33m(\u001b[0m\u001b[0msettings\u001b[0m\u001b[1;33m)\u001b[0m\u001b[1;33m\u001b[0m\u001b[1;33m\u001b[0m\u001b[0m\n\u001b[1;32m--> 542\u001b[1;33m         \u001b[0mresp\u001b[0m \u001b[1;33m=\u001b[0m \u001b[0mself\u001b[0m\u001b[1;33m.\u001b[0m\u001b[0msend\u001b[0m\u001b[1;33m(\u001b[0m\u001b[0mprep\u001b[0m\u001b[1;33m,\u001b[0m \u001b[1;33m**\u001b[0m\u001b[0msend_kwargs\u001b[0m\u001b[1;33m)\u001b[0m\u001b[1;33m\u001b[0m\u001b[1;33m\u001b[0m\u001b[0m\n\u001b[0m\u001b[0;32m    543\u001b[0m \u001b[1;33m\u001b[0m\u001b[0m\n\u001b[0;32m    544\u001b[0m         \u001b[1;32mreturn\u001b[0m \u001b[0mresp\u001b[0m\u001b[1;33m\u001b[0m\u001b[1;33m\u001b[0m\u001b[0m\n",
      "\u001b[1;32m~\\anaconda3\\lib\\site-packages\\requests\\sessions.py\u001b[0m in \u001b[0;36msend\u001b[1;34m(self, request, **kwargs)\u001b[0m\n\u001b[0;32m    653\u001b[0m \u001b[1;33m\u001b[0m\u001b[0m\n\u001b[0;32m    654\u001b[0m         \u001b[1;31m# Send the request\u001b[0m\u001b[1;33m\u001b[0m\u001b[1;33m\u001b[0m\u001b[0m\n\u001b[1;32m--> 655\u001b[1;33m         \u001b[0mr\u001b[0m \u001b[1;33m=\u001b[0m \u001b[0madapter\u001b[0m\u001b[1;33m.\u001b[0m\u001b[0msend\u001b[0m\u001b[1;33m(\u001b[0m\u001b[0mrequest\u001b[0m\u001b[1;33m,\u001b[0m \u001b[1;33m**\u001b[0m\u001b[0mkwargs\u001b[0m\u001b[1;33m)\u001b[0m\u001b[1;33m\u001b[0m\u001b[1;33m\u001b[0m\u001b[0m\n\u001b[0m\u001b[0;32m    656\u001b[0m \u001b[1;33m\u001b[0m\u001b[0m\n\u001b[0;32m    657\u001b[0m         \u001b[1;31m# Total elapsed time of the request (approximately)\u001b[0m\u001b[1;33m\u001b[0m\u001b[1;33m\u001b[0m\u001b[0m\n",
      "\u001b[1;32m~\\anaconda3\\lib\\site-packages\\requests\\adapters.py\u001b[0m in \u001b[0;36msend\u001b[1;34m(self, request, stream, timeout, verify, cert, proxies)\u001b[0m\n\u001b[0;32m    437\u001b[0m         \u001b[1;32mtry\u001b[0m\u001b[1;33m:\u001b[0m\u001b[1;33m\u001b[0m\u001b[1;33m\u001b[0m\u001b[0m\n\u001b[0;32m    438\u001b[0m             \u001b[1;32mif\u001b[0m \u001b[1;32mnot\u001b[0m \u001b[0mchunked\u001b[0m\u001b[1;33m:\u001b[0m\u001b[1;33m\u001b[0m\u001b[1;33m\u001b[0m\u001b[0m\n\u001b[1;32m--> 439\u001b[1;33m                 resp = conn.urlopen(\n\u001b[0m\u001b[0;32m    440\u001b[0m                     \u001b[0mmethod\u001b[0m\u001b[1;33m=\u001b[0m\u001b[0mrequest\u001b[0m\u001b[1;33m.\u001b[0m\u001b[0mmethod\u001b[0m\u001b[1;33m,\u001b[0m\u001b[1;33m\u001b[0m\u001b[1;33m\u001b[0m\u001b[0m\n\u001b[0;32m    441\u001b[0m                     \u001b[0murl\u001b[0m\u001b[1;33m=\u001b[0m\u001b[0murl\u001b[0m\u001b[1;33m,\u001b[0m\u001b[1;33m\u001b[0m\u001b[1;33m\u001b[0m\u001b[0m\n",
      "\u001b[1;32m~\\anaconda3\\lib\\site-packages\\urllib3\\connectionpool.py\u001b[0m in \u001b[0;36murlopen\u001b[1;34m(self, method, url, body, headers, retries, redirect, assert_same_host, timeout, pool_timeout, release_conn, chunked, body_pos, **response_kw)\u001b[0m\n\u001b[0;32m    697\u001b[0m \u001b[1;33m\u001b[0m\u001b[0m\n\u001b[0;32m    698\u001b[0m             \u001b[1;31m# Make the request on the httplib connection object.\u001b[0m\u001b[1;33m\u001b[0m\u001b[1;33m\u001b[0m\u001b[0m\n\u001b[1;32m--> 699\u001b[1;33m             httplib_response = self._make_request(\n\u001b[0m\u001b[0;32m    700\u001b[0m                 \u001b[0mconn\u001b[0m\u001b[1;33m,\u001b[0m\u001b[1;33m\u001b[0m\u001b[1;33m\u001b[0m\u001b[0m\n\u001b[0;32m    701\u001b[0m                 \u001b[0mmethod\u001b[0m\u001b[1;33m,\u001b[0m\u001b[1;33m\u001b[0m\u001b[1;33m\u001b[0m\u001b[0m\n",
      "\u001b[1;32m~\\anaconda3\\lib\\site-packages\\urllib3\\connectionpool.py\u001b[0m in \u001b[0;36m_make_request\u001b[1;34m(self, conn, method, url, timeout, chunked, **httplib_request_kw)\u001b[0m\n\u001b[0;32m    392\u001b[0m                 \u001b[0mconn\u001b[0m\u001b[1;33m.\u001b[0m\u001b[0mrequest_chunked\u001b[0m\u001b[1;33m(\u001b[0m\u001b[0mmethod\u001b[0m\u001b[1;33m,\u001b[0m \u001b[0murl\u001b[0m\u001b[1;33m,\u001b[0m \u001b[1;33m**\u001b[0m\u001b[0mhttplib_request_kw\u001b[0m\u001b[1;33m)\u001b[0m\u001b[1;33m\u001b[0m\u001b[1;33m\u001b[0m\u001b[0m\n\u001b[0;32m    393\u001b[0m             \u001b[1;32melse\u001b[0m\u001b[1;33m:\u001b[0m\u001b[1;33m\u001b[0m\u001b[1;33m\u001b[0m\u001b[0m\n\u001b[1;32m--> 394\u001b[1;33m                 \u001b[0mconn\u001b[0m\u001b[1;33m.\u001b[0m\u001b[0mrequest\u001b[0m\u001b[1;33m(\u001b[0m\u001b[0mmethod\u001b[0m\u001b[1;33m,\u001b[0m \u001b[0murl\u001b[0m\u001b[1;33m,\u001b[0m \u001b[1;33m**\u001b[0m\u001b[0mhttplib_request_kw\u001b[0m\u001b[1;33m)\u001b[0m\u001b[1;33m\u001b[0m\u001b[1;33m\u001b[0m\u001b[0m\n\u001b[0m\u001b[0;32m    395\u001b[0m \u001b[1;33m\u001b[0m\u001b[0m\n\u001b[0;32m    396\u001b[0m         \u001b[1;31m# We are swallowing BrokenPipeError (errno.EPIPE) since the server is\u001b[0m\u001b[1;33m\u001b[0m\u001b[1;33m\u001b[0m\u001b[0m\n",
      "\u001b[1;32m~\\anaconda3\\lib\\site-packages\\urllib3\\connection.py\u001b[0m in \u001b[0;36mrequest\u001b[1;34m(self, method, url, body, headers)\u001b[0m\n\u001b[0;32m    237\u001b[0m         \u001b[1;32mif\u001b[0m \u001b[1;34m\"user-agent\"\u001b[0m \u001b[1;32mnot\u001b[0m \u001b[1;32min\u001b[0m \u001b[1;33m(\u001b[0m\u001b[0msix\u001b[0m\u001b[1;33m.\u001b[0m\u001b[0mensure_str\u001b[0m\u001b[1;33m(\u001b[0m\u001b[0mk\u001b[0m\u001b[1;33m.\u001b[0m\u001b[0mlower\u001b[0m\u001b[1;33m(\u001b[0m\u001b[1;33m)\u001b[0m\u001b[1;33m)\u001b[0m \u001b[1;32mfor\u001b[0m \u001b[0mk\u001b[0m \u001b[1;32min\u001b[0m \u001b[0mheaders\u001b[0m\u001b[1;33m)\u001b[0m\u001b[1;33m:\u001b[0m\u001b[1;33m\u001b[0m\u001b[1;33m\u001b[0m\u001b[0m\n\u001b[0;32m    238\u001b[0m             \u001b[0mheaders\u001b[0m\u001b[1;33m[\u001b[0m\u001b[1;34m\"User-Agent\"\u001b[0m\u001b[1;33m]\u001b[0m \u001b[1;33m=\u001b[0m \u001b[0m_get_default_user_agent\u001b[0m\u001b[1;33m(\u001b[0m\u001b[1;33m)\u001b[0m\u001b[1;33m\u001b[0m\u001b[1;33m\u001b[0m\u001b[0m\n\u001b[1;32m--> 239\u001b[1;33m         \u001b[0msuper\u001b[0m\u001b[1;33m(\u001b[0m\u001b[0mHTTPConnection\u001b[0m\u001b[1;33m,\u001b[0m \u001b[0mself\u001b[0m\u001b[1;33m)\u001b[0m\u001b[1;33m.\u001b[0m\u001b[0mrequest\u001b[0m\u001b[1;33m(\u001b[0m\u001b[0mmethod\u001b[0m\u001b[1;33m,\u001b[0m \u001b[0murl\u001b[0m\u001b[1;33m,\u001b[0m \u001b[0mbody\u001b[0m\u001b[1;33m=\u001b[0m\u001b[0mbody\u001b[0m\u001b[1;33m,\u001b[0m \u001b[0mheaders\u001b[0m\u001b[1;33m=\u001b[0m\u001b[0mheaders\u001b[0m\u001b[1;33m)\u001b[0m\u001b[1;33m\u001b[0m\u001b[1;33m\u001b[0m\u001b[0m\n\u001b[0m\u001b[0;32m    240\u001b[0m \u001b[1;33m\u001b[0m\u001b[0m\n\u001b[0;32m    241\u001b[0m     \u001b[1;32mdef\u001b[0m \u001b[0mrequest_chunked\u001b[0m\u001b[1;33m(\u001b[0m\u001b[0mself\u001b[0m\u001b[1;33m,\u001b[0m \u001b[0mmethod\u001b[0m\u001b[1;33m,\u001b[0m \u001b[0murl\u001b[0m\u001b[1;33m,\u001b[0m \u001b[0mbody\u001b[0m\u001b[1;33m=\u001b[0m\u001b[1;32mNone\u001b[0m\u001b[1;33m,\u001b[0m \u001b[0mheaders\u001b[0m\u001b[1;33m=\u001b[0m\u001b[1;32mNone\u001b[0m\u001b[1;33m)\u001b[0m\u001b[1;33m:\u001b[0m\u001b[1;33m\u001b[0m\u001b[1;33m\u001b[0m\u001b[0m\n",
      "\u001b[1;32m~\\anaconda3\\lib\\http\\client.py\u001b[0m in \u001b[0;36mrequest\u001b[1;34m(self, method, url, body, headers, encode_chunked)\u001b[0m\n\u001b[0;32m   1277\u001b[0m                 encode_chunked=False):\n\u001b[0;32m   1278\u001b[0m         \u001b[1;34m\"\"\"Send a complete request to the server.\"\"\"\u001b[0m\u001b[1;33m\u001b[0m\u001b[1;33m\u001b[0m\u001b[0m\n\u001b[1;32m-> 1279\u001b[1;33m         \u001b[0mself\u001b[0m\u001b[1;33m.\u001b[0m\u001b[0m_send_request\u001b[0m\u001b[1;33m(\u001b[0m\u001b[0mmethod\u001b[0m\u001b[1;33m,\u001b[0m \u001b[0murl\u001b[0m\u001b[1;33m,\u001b[0m \u001b[0mbody\u001b[0m\u001b[1;33m,\u001b[0m \u001b[0mheaders\u001b[0m\u001b[1;33m,\u001b[0m \u001b[0mencode_chunked\u001b[0m\u001b[1;33m)\u001b[0m\u001b[1;33m\u001b[0m\u001b[1;33m\u001b[0m\u001b[0m\n\u001b[0m\u001b[0;32m   1280\u001b[0m \u001b[1;33m\u001b[0m\u001b[0m\n\u001b[0;32m   1281\u001b[0m     \u001b[1;32mdef\u001b[0m \u001b[0m_send_request\u001b[0m\u001b[1;33m(\u001b[0m\u001b[0mself\u001b[0m\u001b[1;33m,\u001b[0m \u001b[0mmethod\u001b[0m\u001b[1;33m,\u001b[0m \u001b[0murl\u001b[0m\u001b[1;33m,\u001b[0m \u001b[0mbody\u001b[0m\u001b[1;33m,\u001b[0m \u001b[0mheaders\u001b[0m\u001b[1;33m,\u001b[0m \u001b[0mencode_chunked\u001b[0m\u001b[1;33m)\u001b[0m\u001b[1;33m:\u001b[0m\u001b[1;33m\u001b[0m\u001b[1;33m\u001b[0m\u001b[0m\n",
      "\u001b[1;32m~\\anaconda3\\lib\\http\\client.py\u001b[0m in \u001b[0;36m_send_request\u001b[1;34m(self, method, url, body, headers, encode_chunked)\u001b[0m\n\u001b[0;32m   1323\u001b[0m             \u001b[1;31m# default charset of iso-8859-1.\u001b[0m\u001b[1;33m\u001b[0m\u001b[1;33m\u001b[0m\u001b[0m\n\u001b[0;32m   1324\u001b[0m             \u001b[0mbody\u001b[0m \u001b[1;33m=\u001b[0m \u001b[0m_encode\u001b[0m\u001b[1;33m(\u001b[0m\u001b[0mbody\u001b[0m\u001b[1;33m,\u001b[0m \u001b[1;34m'body'\u001b[0m\u001b[1;33m)\u001b[0m\u001b[1;33m\u001b[0m\u001b[1;33m\u001b[0m\u001b[0m\n\u001b[1;32m-> 1325\u001b[1;33m         \u001b[0mself\u001b[0m\u001b[1;33m.\u001b[0m\u001b[0mendheaders\u001b[0m\u001b[1;33m(\u001b[0m\u001b[0mbody\u001b[0m\u001b[1;33m,\u001b[0m \u001b[0mencode_chunked\u001b[0m\u001b[1;33m=\u001b[0m\u001b[0mencode_chunked\u001b[0m\u001b[1;33m)\u001b[0m\u001b[1;33m\u001b[0m\u001b[1;33m\u001b[0m\u001b[0m\n\u001b[0m\u001b[0;32m   1326\u001b[0m \u001b[1;33m\u001b[0m\u001b[0m\n\u001b[0;32m   1327\u001b[0m     \u001b[1;32mdef\u001b[0m \u001b[0mgetresponse\u001b[0m\u001b[1;33m(\u001b[0m\u001b[0mself\u001b[0m\u001b[1;33m)\u001b[0m\u001b[1;33m:\u001b[0m\u001b[1;33m\u001b[0m\u001b[1;33m\u001b[0m\u001b[0m\n",
      "\u001b[1;32m~\\anaconda3\\lib\\http\\client.py\u001b[0m in \u001b[0;36mendheaders\u001b[1;34m(self, message_body, encode_chunked)\u001b[0m\n\u001b[0;32m   1272\u001b[0m         \u001b[1;32melse\u001b[0m\u001b[1;33m:\u001b[0m\u001b[1;33m\u001b[0m\u001b[1;33m\u001b[0m\u001b[0m\n\u001b[0;32m   1273\u001b[0m             \u001b[1;32mraise\u001b[0m \u001b[0mCannotSendHeader\u001b[0m\u001b[1;33m(\u001b[0m\u001b[1;33m)\u001b[0m\u001b[1;33m\u001b[0m\u001b[1;33m\u001b[0m\u001b[0m\n\u001b[1;32m-> 1274\u001b[1;33m         \u001b[0mself\u001b[0m\u001b[1;33m.\u001b[0m\u001b[0m_send_output\u001b[0m\u001b[1;33m(\u001b[0m\u001b[0mmessage_body\u001b[0m\u001b[1;33m,\u001b[0m \u001b[0mencode_chunked\u001b[0m\u001b[1;33m=\u001b[0m\u001b[0mencode_chunked\u001b[0m\u001b[1;33m)\u001b[0m\u001b[1;33m\u001b[0m\u001b[1;33m\u001b[0m\u001b[0m\n\u001b[0m\u001b[0;32m   1275\u001b[0m \u001b[1;33m\u001b[0m\u001b[0m\n\u001b[0;32m   1276\u001b[0m     def request(self, method, url, body=None, headers={}, *,\n",
      "\u001b[1;32m~\\anaconda3\\lib\\http\\client.py\u001b[0m in \u001b[0;36m_send_output\u001b[1;34m(self, message_body, encode_chunked)\u001b[0m\n\u001b[0;32m   1032\u001b[0m         \u001b[0mmsg\u001b[0m \u001b[1;33m=\u001b[0m \u001b[1;34mb\"\\r\\n\"\u001b[0m\u001b[1;33m.\u001b[0m\u001b[0mjoin\u001b[0m\u001b[1;33m(\u001b[0m\u001b[0mself\u001b[0m\u001b[1;33m.\u001b[0m\u001b[0m_buffer\u001b[0m\u001b[1;33m)\u001b[0m\u001b[1;33m\u001b[0m\u001b[1;33m\u001b[0m\u001b[0m\n\u001b[0;32m   1033\u001b[0m         \u001b[1;32mdel\u001b[0m \u001b[0mself\u001b[0m\u001b[1;33m.\u001b[0m\u001b[0m_buffer\u001b[0m\u001b[1;33m[\u001b[0m\u001b[1;33m:\u001b[0m\u001b[1;33m]\u001b[0m\u001b[1;33m\u001b[0m\u001b[1;33m\u001b[0m\u001b[0m\n\u001b[1;32m-> 1034\u001b[1;33m         \u001b[0mself\u001b[0m\u001b[1;33m.\u001b[0m\u001b[0msend\u001b[0m\u001b[1;33m(\u001b[0m\u001b[0mmsg\u001b[0m\u001b[1;33m)\u001b[0m\u001b[1;33m\u001b[0m\u001b[1;33m\u001b[0m\u001b[0m\n\u001b[0m\u001b[0;32m   1035\u001b[0m \u001b[1;33m\u001b[0m\u001b[0m\n\u001b[0;32m   1036\u001b[0m         \u001b[1;32mif\u001b[0m \u001b[0mmessage_body\u001b[0m \u001b[1;32mis\u001b[0m \u001b[1;32mnot\u001b[0m \u001b[1;32mNone\u001b[0m\u001b[1;33m:\u001b[0m\u001b[1;33m\u001b[0m\u001b[1;33m\u001b[0m\u001b[0m\n",
      "\u001b[1;32m~\\anaconda3\\lib\\http\\client.py\u001b[0m in \u001b[0;36msend\u001b[1;34m(self, data)\u001b[0m\n\u001b[0;32m    972\u001b[0m         \u001b[1;32mif\u001b[0m \u001b[0mself\u001b[0m\u001b[1;33m.\u001b[0m\u001b[0msock\u001b[0m \u001b[1;32mis\u001b[0m \u001b[1;32mNone\u001b[0m\u001b[1;33m:\u001b[0m\u001b[1;33m\u001b[0m\u001b[1;33m\u001b[0m\u001b[0m\n\u001b[0;32m    973\u001b[0m             \u001b[1;32mif\u001b[0m \u001b[0mself\u001b[0m\u001b[1;33m.\u001b[0m\u001b[0mauto_open\u001b[0m\u001b[1;33m:\u001b[0m\u001b[1;33m\u001b[0m\u001b[1;33m\u001b[0m\u001b[0m\n\u001b[1;32m--> 974\u001b[1;33m                 \u001b[0mself\u001b[0m\u001b[1;33m.\u001b[0m\u001b[0mconnect\u001b[0m\u001b[1;33m(\u001b[0m\u001b[1;33m)\u001b[0m\u001b[1;33m\u001b[0m\u001b[1;33m\u001b[0m\u001b[0m\n\u001b[0m\u001b[0;32m    975\u001b[0m             \u001b[1;32melse\u001b[0m\u001b[1;33m:\u001b[0m\u001b[1;33m\u001b[0m\u001b[1;33m\u001b[0m\u001b[0m\n\u001b[0;32m    976\u001b[0m                 \u001b[1;32mraise\u001b[0m \u001b[0mNotConnected\u001b[0m\u001b[1;33m(\u001b[0m\u001b[1;33m)\u001b[0m\u001b[1;33m\u001b[0m\u001b[1;33m\u001b[0m\u001b[0m\n",
      "\u001b[1;32m~\\anaconda3\\lib\\site-packages\\urllib3\\connection.py\u001b[0m in \u001b[0;36mconnect\u001b[1;34m(self)\u001b[0m\n\u001b[0;32m    203\u001b[0m \u001b[1;33m\u001b[0m\u001b[0m\n\u001b[0;32m    204\u001b[0m     \u001b[1;32mdef\u001b[0m \u001b[0mconnect\u001b[0m\u001b[1;33m(\u001b[0m\u001b[0mself\u001b[0m\u001b[1;33m)\u001b[0m\u001b[1;33m:\u001b[0m\u001b[1;33m\u001b[0m\u001b[1;33m\u001b[0m\u001b[0m\n\u001b[1;32m--> 205\u001b[1;33m         \u001b[0mconn\u001b[0m \u001b[1;33m=\u001b[0m \u001b[0mself\u001b[0m\u001b[1;33m.\u001b[0m\u001b[0m_new_conn\u001b[0m\u001b[1;33m(\u001b[0m\u001b[1;33m)\u001b[0m\u001b[1;33m\u001b[0m\u001b[1;33m\u001b[0m\u001b[0m\n\u001b[0m\u001b[0;32m    206\u001b[0m         \u001b[0mself\u001b[0m\u001b[1;33m.\u001b[0m\u001b[0m_prepare_conn\u001b[0m\u001b[1;33m(\u001b[0m\u001b[0mconn\u001b[0m\u001b[1;33m)\u001b[0m\u001b[1;33m\u001b[0m\u001b[1;33m\u001b[0m\u001b[0m\n\u001b[0;32m    207\u001b[0m \u001b[1;33m\u001b[0m\u001b[0m\n",
      "\u001b[1;32m~\\anaconda3\\lib\\site-packages\\urllib3\\connection.py\u001b[0m in \u001b[0;36m_new_conn\u001b[1;34m(self)\u001b[0m\n\u001b[0;32m    172\u001b[0m \u001b[1;33m\u001b[0m\u001b[0m\n\u001b[0;32m    173\u001b[0m         \u001b[1;32mtry\u001b[0m\u001b[1;33m:\u001b[0m\u001b[1;33m\u001b[0m\u001b[1;33m\u001b[0m\u001b[0m\n\u001b[1;32m--> 174\u001b[1;33m             conn = connection.create_connection(\n\u001b[0m\u001b[0;32m    175\u001b[0m                 \u001b[1;33m(\u001b[0m\u001b[0mself\u001b[0m\u001b[1;33m.\u001b[0m\u001b[0m_dns_host\u001b[0m\u001b[1;33m,\u001b[0m \u001b[0mself\u001b[0m\u001b[1;33m.\u001b[0m\u001b[0mport\u001b[0m\u001b[1;33m)\u001b[0m\u001b[1;33m,\u001b[0m \u001b[0mself\u001b[0m\u001b[1;33m.\u001b[0m\u001b[0mtimeout\u001b[0m\u001b[1;33m,\u001b[0m \u001b[1;33m**\u001b[0m\u001b[0mextra_kw\u001b[0m\u001b[1;33m\u001b[0m\u001b[1;33m\u001b[0m\u001b[0m\n\u001b[0;32m    176\u001b[0m             )\n",
      "\u001b[1;32m~\\anaconda3\\lib\\site-packages\\urllib3\\util\\connection.py\u001b[0m in \u001b[0;36mcreate_connection\u001b[1;34m(address, timeout, source_address, socket_options)\u001b[0m\n\u001b[0;32m     84\u001b[0m             \u001b[1;32mif\u001b[0m \u001b[0msource_address\u001b[0m\u001b[1;33m:\u001b[0m\u001b[1;33m\u001b[0m\u001b[1;33m\u001b[0m\u001b[0m\n\u001b[0;32m     85\u001b[0m                 \u001b[0msock\u001b[0m\u001b[1;33m.\u001b[0m\u001b[0mbind\u001b[0m\u001b[1;33m(\u001b[0m\u001b[0msource_address\u001b[0m\u001b[1;33m)\u001b[0m\u001b[1;33m\u001b[0m\u001b[1;33m\u001b[0m\u001b[0m\n\u001b[1;32m---> 86\u001b[1;33m             \u001b[0msock\u001b[0m\u001b[1;33m.\u001b[0m\u001b[0mconnect\u001b[0m\u001b[1;33m(\u001b[0m\u001b[0msa\u001b[0m\u001b[1;33m)\u001b[0m\u001b[1;33m\u001b[0m\u001b[1;33m\u001b[0m\u001b[0m\n\u001b[0m\u001b[0;32m     87\u001b[0m             \u001b[1;32mreturn\u001b[0m \u001b[0msock\u001b[0m\u001b[1;33m\u001b[0m\u001b[1;33m\u001b[0m\u001b[0m\n\u001b[0;32m     88\u001b[0m \u001b[1;33m\u001b[0m\u001b[0m\n",
      "\u001b[1;31mKeyboardInterrupt\u001b[0m: "
     ]
    }
   ],
   "source": [
    "if __name__ == '__main__':\n",
    "    w3 = Web3(HTTPProvider('http://172.18.102.169:9545')) #If access to our Local lockchain\n",
    "    w3.isConnected()\n",
    "    #w3 = Web3(EthereumTesterProvider()) #If no internet connectivity\n",
    "    w3.middleware_onion.inject(geth_poa_middleware, layer=0) #For compatibility with POA consensus chains\n",
    "    print (\"Latest Ethereum block number\" , w3.eth.block_number)\n",
    "    nftOTT_instance = w3.eth.contract(address = nftOTT, abi = abiNFT) #Creates a contract instance for the OTT-NFT\n",
    "    verify_instance = w3.eth.contract(address = employeeRepo, abi = abiEmpRep) #Creates a contract instance for the employee Repo \n",
    "\n",
    "    \n",
    "    file_exists = exists(\"encyptedKey.json\")\n",
    "    #print(file_exists)\n",
    "    try:\n",
    "        my_account = getBlockKey(file_exists)\n",
    "        try:\n",
    "            print(my_account.address)\n",
    "        except NameError as error:\n",
    "            print(\"There is no Ethereum account!!\", error)\n",
    "        latest_block = w3.eth.get_block('latest')\n",
    "        print(latest_block)\n",
    "    except:\n",
    "        print(\"Verify your Ethereum Account\")"
   ]
  },
  {
   "cell_type": "code",
   "execution_count": null,
   "id": "d2ebc5a1-e2d2-4079-9235-483e2acc52e1",
   "metadata": {},
   "outputs": [],
   "source": [
    "checkBalance() #Checks balance of current account"
   ]
  },
  {
   "cell_type": "code",
   "execution_count": null,
   "id": "17cf52b6-d000-452c-932a-8c128cfc9351",
   "metadata": {},
   "outputs": [],
   "source": [
    "eventFilter()"
   ]
  },
  {
   "cell_type": "code",
   "execution_count": null,
   "id": "cc450e35-ef36-4eac-a099-a56a9e3cf674",
   "metadata": {},
   "outputs": [],
   "source": [
    "\n",
    "createIdentity() #Creates a new Identity"
   ]
  },
  {
   "cell_type": "code",
   "execution_count": null,
   "id": "2f232fe7-7a1e-40be-aeb3-a0e872c10db4",
   "metadata": {},
   "outputs": [],
   "source": [
    "receipt = setApproval(operator)  #Approves the use of the NFT to the IBN blockchain account\n",
    "print(\"Approved\", receipt)"
   ]
  },
  {
   "cell_type": "code",
   "execution_count": null,
   "id": "8c7b08bb-f312-44bd-a061-856b9d08cd0c",
   "metadata": {},
   "outputs": [],
   "source": [
    "print(myOTT)\n",
    "enroll(myOTT)"
   ]
  },
  {
   "cell_type": "code",
   "execution_count": null,
   "id": "ca6744bf-9ce2-4209-bd76-bb34a6afb5c1",
   "metadata": {},
   "outputs": [],
   "source": [
    "signMessage('verified', my_account.privateKey)"
   ]
  },
  {
   "cell_type": "code",
   "execution_count": null,
   "id": "8c7eec4b-0531-456c-9f2d-489ff76d4133",
   "metadata": {},
   "outputs": [],
   "source": [
    "callSomething('0x695878821aa62bd098ec606b5a7a31b0305de019bef4e6118266fa66d7b833b31805623374e15c45cb3f8aa9ba86ecb0df63f30142d3c57d44087765bae2a0791b')"
   ]
  },
  {
   "cell_type": "code",
   "execution_count": null,
   "id": "c78c43b3-e744-49e8-b0d5-e1fd68bd66d9",
   "metadata": {},
   "outputs": [],
   "source": [
    "createIdentity()"
   ]
  },
  {
   "cell_type": "code",
   "execution_count": null,
   "id": "4caffed1-1e9f-4eb2-add1-719242b3306c",
   "metadata": {},
   "outputs": [],
   "source": [
    "def verifyMFA():\n",
    "   \n",
    "    myhex =  Web3.toBytes(hexstr='0xefe4a65c4f8eabce4ed754ae59481ba0cad190270a916d1d00c00072e1b30796517b46f64d0d4a446a5f2718e31614ace012b8b87b82fd3e501c41583ee2a0ad1c')\n",
    "    print(myhex)\n",
    "    encoded = encode_abi(['bytes', 'address'], [myhex, '0xe542D6B2f22Fa8acA8de6bB1B65EC0a6028E5cA6'])\n",
    "    encodedhex = w3.toHex(encoded)\n",
    "    print(encoded, encodedhex)\n",
    "    \n",
    "    decoded = decode_abi(['bytes', 'address'], b\"\\x00\\x00\\x00\\x00\\x00\\x00\\x00\\x00\\x00\\x00\\x00\\x00\\x00\\x00\\x00\\x00\\x00\\x00\\x00\\x00\\x00\\x00\\x00\\x00\\x00\\x00\\x00\\x00\\x00\\x00\\x00@\\x00\\x00\\x00\\x00\\x00\\x00\\x00\\x00\\x00\\x00\\x00\\x00\\xe5B\\xd6\\xb2\\xf2/\\xa8\\xac\\xa8\\xdek\\xb1\\xb6^\\xc0\\xa6\\x02\\x8e\\\\\\xa6\\x00\\x00\\x00\\x00\\x00\\x00\\x00\\x00\\x00\\x00\\x00\\x00\\x00\\x00\\x00\\x00\\x00\\x00\\x00\\x00\\x00\\x00\\x00\\x00\\x00\\x00\\x00\\x00\\x00\\x00\\x00A\\xef\\xe4\\xa6\\\\O\\x8e\\xab\\xceN\\xd7T\\xaeYH\\x1b\\xa0\\xca\\xd1\\x90'\\n\\x91m\\x1d\\x00\\xc0\\x00r\\xe1\\xb3\\x07\\x96Q{F\\xf6M\\rJDj_'\\x18\\xe3\\x16\\x14\\xac\\xe0\\x12\\xb8\\xb8{\\x82\\xfd>P\\x1cAX>\\xe2\\xa0\\xad\\x1c\\x00\\x00\\x00\\x00\\x00\\x00\\x00\\x00\\x00\\x00\\x00\\x00\\x00\\x00\\x00\\x00\\x00\\x00\\x00\\x00\\x00\\x00\\x00\\x00\\x00\\x00\\x00\\x00\\x00\\x00\\x00\")\n",
    "    print(decoded)\n",
    "    resultMFA = verify_instance.functions.verifyMFA2('0xe542D6B2f22Fa8acA8de6bB1B65EC0a6028E5cA6', 0x1c, '0xefe4a65c4f8eabce4ed754ae59481ba0cad190270a916d1d00c00072e1b30796', '0x517b46f64d0d4a446a5f2718e31614ace012b8b87b82fd3e501c41583ee2a0ad').call({'from': \"0xc9e93b4E813c6818975ea166B0CfEc001454aD0B\"}) #Get the status of the account\n",
    "    struct =  verify_instance.functions.getEmployeeByEmployeeId(5678).call({'from': \"0xc9e93b4E813c6818975ea166B0CfEc001454aD0B\"})\n",
    "    print(struct)\n",
    "    print(resultMFA)\n",
    "    return resultMFA"
   ]
  },
  {
   "cell_type": "code",
   "execution_count": null,
   "id": "88c6fd7c-c0b2-4e3b-9f5b-8d5aea91835b",
   "metadata": {},
   "outputs": [],
   "source": [
    "verifyMFA()"
   ]
  },
  {
   "cell_type": "code",
   "execution_count": null,
   "id": "05de5ea7-fbfc-4d69-a43c-8aeb6decdcd6",
   "metadata": {},
   "outputs": [],
   "source": [
    "w3.clientVersion"
   ]
  },
  {
   "cell_type": "code",
   "execution_count": null,
   "id": "e740902c-35a4-4c8c-99d4-201ad56b7348",
   "metadata": {},
   "outputs": [],
   "source": [
    "mintOTTNFT(\"0xe542D6B2f22Fa8acA8de6bB1B65EC0a6028E5cA6\")"
   ]
  },
  {
   "cell_type": "markdown",
   "id": "7c75b43d-a842-4413-9aa1-9fdff549dc1a",
   "metadata": {},
   "source": []
  },
  {
   "cell_type": "code",
   "execution_count": null,
   "id": "f7729806-8c3d-47bf-b641-7e16f22b39f1",
   "metadata": {},
   "outputs": [],
   "source": [
    "getIdentityInfoN(\"0xe542D6B2f22Fa8acA8de6bB1B65EC0a6028E5cAd6\")"
   ]
  },
  {
   "cell_type": "code",
   "execution_count": 17,
   "id": "6eca4dee-2e87-4f6c-83c2-cd54553caae7",
   "metadata": {},
   "outputs": [
    {
     "name": "stdout",
     "output_type": "stream",
     "text": [
      "b'\\xf5\\xd1\\x01*s\\n.0\\x99wRL\\xfe\\xdf\\xc1\\xda\\x1dA}\\xe42Wb%j\\x0f\\xb3\\x14\\xb4\\xc8\\xd3&'\n",
      "<class 'str'>\n"
     ]
    }
   ],
   "source": [
    "hashID = Web3.keccak(text=\"{'id': 'htMtcA1rzK', 'name': '0xe542D6B2f22Fa8acA8de6bB1B65EC0a6028E5cA6', 'createdAt': '2022-08-09T02:20:51.839Z', 'updatedAt': '2022-08-09T02:20:51.839Z', 'auth': {'cert': {'fingerprint': 'ef94b3c2a37cda57341177bc4b00f1b43e3a0e73', 'id': 'KkmicA1kz'}}}\")\n",
    "\n",
    "print(str(hashID))\n",
    "pinichi = Web3.toHex(hashID)\n",
    "print(type(pinichi))\n"
   ]
  },
  {
   "cell_type": "code",
   "execution_count": null,
   "id": "18f60b7e-5f12-4bfb-99ae-39f046cc68f9",
   "metadata": {},
   "outputs": [],
   "source": [
    "def getIdentityInfo():\n",
    "    authResponse = requests.post(authURL, json=obj, verify=False,)\n",
    "    jsonResponse = json.loads(authResponse.text)\n",
    "    #print(authResponse.text)\n",
    "\n",
    "    identityInfo = requests.get(\n",
    "    f\"https://172.18.102.169:1280/edge/management/v1/identities/3gj81K1r4K\",\n",
    "    verify=False,\n",
    "    headers={\"zt-session\": jsonResponse['data']['token']}\n",
    "        )\n",
    "    identityResponse = json.loads(identityInfo.text)\n",
    "    auth = identityResponse[\"data\"][\"authenticators\"]\n",
    "    print(identityResponse[\"data\"][\"authenticators\"])\n",
    "    print(len(auth))"
   ]
  },
  {
   "cell_type": "code",
   "execution_count": 18,
   "id": "f5e201c0-1517-4445-b521-5f3d2bab766d",
   "metadata": {},
   "outputs": [
    {
     "ename": "NameError",
     "evalue": "name 'getIdentityInfo' is not defined",
     "output_type": "error",
     "traceback": [
      "\u001b[1;31m---------------------------------------------------------------------------\u001b[0m",
      "\u001b[1;31mNameError\u001b[0m                                 Traceback (most recent call last)",
      "\u001b[1;32mC:\\Users\\COMPUT~1\\AppData\\Local\\Temp/ipykernel_29944/1104386233.py\u001b[0m in \u001b[0;36m<module>\u001b[1;34m\u001b[0m\n\u001b[1;32m----> 1\u001b[1;33m \u001b[0mgetIdentityInfo\u001b[0m\u001b[1;33m(\u001b[0m\u001b[1;33m)\u001b[0m\u001b[1;33m\u001b[0m\u001b[1;33m\u001b[0m\u001b[0m\n\u001b[0m",
      "\u001b[1;31mNameError\u001b[0m: name 'getIdentityInfo' is not defined"
     ]
    }
   ],
   "source": [
    "getIdentityInfo()"
   ]
  },
  {
   "cell_type": "code",
   "execution_count": 47,
   "id": "52d1b0fd-6df4-4698-aebd-3ba5bb638e14",
   "metadata": {},
   "outputs": [],
   "source": [
    "from collections import namedtuple\n",
    "w3 = Web3(HTTPProvider('http://127.0.0.1:8545')) #If access to our Local lockchain\n",
    "\n",
    "class Policy():\n",
    "    \"Stores name and place pairs\"\n",
    "    def __init__(self, policyId, policyHash):\n",
    "        self.policyId = policyId\n",
    "        self.policyHash = policyHash\n",
    "        \n",
    "w3.middleware_onion.inject(geth_poa_middleware, layer=0) #For compatibility with POA consensus chains\n",
    "nonce = 0 #Need to find a better way for nonce tracking\n",
    "policyRules_instance = w3.eth.contract(address = policyRules, abi = abiPolicy)\n",
    "roles = [1, 4, 5, 6]\n",
    "metadataList = []\n",
    "Policy = namedtuple(\"Policy\",[\"policyId\",\"hash\"])\n",
    "\n",
    "\n"
   ]
  },
  {
   "cell_type": "code",
   "execution_count": 48,
   "id": "e3991eb7-22c3-4a5d-adb9-54ea76f97efe",
   "metadata": {},
   "outputs": [],
   "source": [
    "def getPolicies():\n",
    "    policies = policyRules_instance.functions.getAllPolicies().call() #Get all the policies\n",
    "    if len(policies) == 0:\n",
    "        return 0\n",
    "    else:\n",
    "        return policies"
   ]
  },
  {
   "cell_type": "code",
   "execution_count": 49,
   "id": "a8b607c0-f7ca-4700-a8c6-20b45d4f6880",
   "metadata": {},
   "outputs": [],
   "source": [
    "def detect(list_a, list_b):\n",
    "    result = set(list_a) & set(list_b)\n",
    "    print(list(result))\n",
    "    \n",
    "    return result"
   ]
  },
  {
   "cell_type": "code",
   "execution_count": 50,
   "id": "480af368-c912-43e8-a913-8c5df50558e2",
   "metadata": {},
   "outputs": [
    {
     "name": "stdout",
     "output_type": "stream",
     "text": [
      "This Policy (1, [1], 1, '0xB6082Ff8C8765eE6AB4650f3AAAcBCF81876fEa7', 'TEST')\n",
      "[1]\n",
      "{1}\n",
      "RESULT {1}\n",
      "This Policy (2, [1, 2], 2, '0xB6082Ff8C8765eE6AB4650f3AAAcBCF81876fEa7', 'TEST')\n",
      "[1]\n",
      "{1}\n",
      "RESULT {1}\n",
      "This Policy (3, [3], 2, '0xB6082Ff8C8765eE6AB4650f3AAAcBCF81876fEa7', 'TEST')\n",
      "[]\n",
      "set()\n",
      "RESULT set()\n",
      "List of policies [Policy(policyId=1, hash='TEST'), Policy(policyId=2, hash='TEST')]\n"
     ]
    }
   ],
   "source": [
    "policyIds = []\n",
    "activePolicies = getPolicies()\n",
    "for p in activePolicies:\n",
    "    print(\"This Policy\", p)\n",
    "    a = detect(roles,p[1])\n",
    "    print(a)\n",
    "    if a: \n",
    "        policyIds.append(Policy(p[0],p[4])) \n",
    "    print(\"RESULT\", a)\n",
    "print(\"List of policies\", policyIds)\n",
    "\n",
    "\n",
    "    \n",
    "    "
   ]
  },
  {
   "cell_type": "code",
   "execution_count": null,
   "id": "d9d5aa78-ccfa-489b-9b7f-1d57c7806505",
   "metadata": {},
   "outputs": [],
   "source": []
  },
  {
   "cell_type": "code",
   "execution_count": 76,
   "id": "4197a861-2428-4497-b3ac-5d26e97cef6f",
   "metadata": {},
   "outputs": [],
   "source": [
    "def getActivePolicies(policies):\n",
    "    activePolicyList = []\n",
    "    for p in policies:\n",
    "        print(\"This Policy\", p)\n",
    "        a = detect(roles,p[1])\n",
    "        if a: \n",
    "            activePolicyList.append(Policy(p[0],p[4])) \n",
    "        print(\"RESULT\", list(a))\n",
    "    print(\"List of policies\", activePolicyList)\n",
    "    result = json.dumps(activePolicyList[0]._asdict())##Important for the metadata\n",
    "    print(\"JSON\", result)\n",
    "    return activePolicyList"
   ]
  },
  {
   "cell_type": "code",
   "execution_count": 77,
   "id": "69541b7f-fcdd-4305-8a2e-92017d180d18",
   "metadata": {},
   "outputs": [],
   "source": [
    "thePolicies = getPolicies()  ##NEED TO QUERY THE TOTAL POLICIES\n"
   ]
  },
  {
   "cell_type": "code",
   "execution_count": 78,
   "id": "dbcd1603-8a32-466b-850f-8ecbe37935a4",
   "metadata": {},
   "outputs": [
    {
     "name": "stdout",
     "output_type": "stream",
     "text": [
      "This Policy (1, [1], 1, '0xB6082Ff8C8765eE6AB4650f3AAAcBCF81876fEa7', 'TEST')\n",
      "[1]\n",
      "RESULT [1]\n",
      "This Policy (2, [1, 2], 2, '0xB6082Ff8C8765eE6AB4650f3AAAcBCF81876fEa7', 'TEST')\n",
      "[1]\n",
      "RESULT [1]\n",
      "This Policy (3, [3], 2, '0xB6082Ff8C8765eE6AB4650f3AAAcBCF81876fEa7', 'TEST')\n",
      "[]\n",
      "RESULT []\n",
      "List of policies [Policy(policyId=1, hash='TEST'), Policy(policyId=2, hash='TEST')]\n",
      "JSON {\"policyId\": 1, \"hash\": \"TEST\"}\n"
     ]
    }
   ],
   "source": [
    "metadataList = getActivePolicies(thePolicies) ##MAP roleList with the Total policies.\n"
   ]
  },
  {
   "cell_type": "code",
   "execution_count": null,
   "id": "b0fb2675-9f1c-45e3-8caf-e74aa0d0b991",
   "metadata": {},
   "outputs": [],
   "source": []
  }
 ],
 "metadata": {
  "kernelspec": {
   "display_name": "Python 3 (ipykernel)",
   "language": "python",
   "name": "python3"
  },
  "language_info": {
   "codemirror_mode": {
    "name": "ipython",
    "version": 3
   },
   "file_extension": ".py",
   "mimetype": "text/x-python",
   "name": "python",
   "nbconvert_exporter": "python",
   "pygments_lexer": "ipython3",
   "version": "3.9.7"
  }
 },
 "nbformat": 4,
 "nbformat_minor": 5
}
